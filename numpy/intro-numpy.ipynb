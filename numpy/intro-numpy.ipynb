{
 "cells": [
  {
   "metadata": {},
   "cell_type": "markdown",
   "source": [
    "# Introduction to Numpy\n",
    "© Saefulloh Maslul - 2024"
   ],
   "id": "29d6cf6140409f00"
  },
  {
   "metadata": {},
   "cell_type": "markdown",
   "source": [
    "## What is Numpy?\n",
    "NumPy stands for numerical Python. It's the backbone of all kinds of scientific and numerical computing in Python.\n",
    "\n",
    "And since machine learning is all about turning data into numbers and then figuring out the patterns, NumPy often comes into play."
   ],
   "id": "a4f19f159f1033c3"
  },
  {
   "metadata": {},
   "cell_type": "markdown",
   "source": [
    "## Why NumPy?\n",
    "NumPy has several advantages that make it a powerful tool for data manipulation in Python. First, it is faster than Python lists, which can be a significant advantage when dealing with large datasets. Second, unlike Python lists, NumPy uses fixed types, which allows it to efficiently store and manipulate data. Third, NumPy uses contiguous blocks of memory, which can improve performance and speed. Fourth, it is optimized for linear algebra operations, which are a common requirement in data analysis. Finally, NumPy serves as the foundation for many other Python libraries, making it a crucial part of the Python data ecosystem."
   ],
   "id": "d2823ee5f99f1b05"
  },
  {
   "metadata": {},
   "cell_type": "markdown",
   "source": [
    "## Importing NumPy\n",
    "To use NumPy, you need to import the numpy package. Most people import it as np."
   ],
   "id": "9b6ef671289a67ba"
  },
  {
   "metadata": {
    "ExecuteTime": {
     "end_time": "2024-05-24T13:07:39.659114Z",
     "start_time": "2024-05-24T13:07:25.554823Z"
    }
   },
   "cell_type": "code",
   "source": [
    "import numpy as np\n",
    "print(np.__version__)"
   ],
   "id": "2db048ba885c4b4c",
   "outputs": [
    {
     "name": "stdout",
     "output_type": "stream",
     "text": [
      "1.26.4\n"
     ]
    }
   ],
   "execution_count": 1
  },
  {
   "metadata": {},
   "cell_type": "markdown",
   "source": [
    "## Data Types and Attributes\n",
    "NumPy's main data type is ndarray, which is a multidimensional array of numbers. You can create an ndarray using the np.array() function. For example, the following code creates a one-dimensional array of numbers:"
   ],
   "id": "bda6b952786083d9"
  },
  {
   "metadata": {
    "ExecuteTime": {
     "end_time": "2024-05-24T13:09:31.718801Z",
     "start_time": "2024-05-24T13:09:31.714517Z"
    }
   },
   "cell_type": "code",
   "source": [
    "a = np.array([1, 2, 3, 4, 5])\n",
    "print(a)"
   ],
   "id": "e1dac7b898330429",
   "outputs": [
    {
     "name": "stdout",
     "output_type": "stream",
     "text": [
      "[1 2 3 4 5]\n"
     ]
    }
   ],
   "execution_count": 8
  },
  {
   "metadata": {},
   "cell_type": "markdown",
   "source": "To create a two-dimensional array, you can pass a list of lists to the np.array() function. For example, the following code creates a two-dimensional array:",
   "id": "cb8296a3093e3109"
  },
  {
   "metadata": {
    "ExecuteTime": {
     "end_time": "2024-05-24T13:09:35.079177Z",
     "start_time": "2024-05-24T13:09:35.074679Z"
    }
   },
   "cell_type": "code",
   "source": [
    "b = np.array([\n",
    "    [1, 2, 3], \n",
    "    [4, 5, 6]\n",
    "])\n",
    "print(b)"
   ],
   "id": "1d6a58906ffdfdfe",
   "outputs": [
    {
     "name": "stdout",
     "output_type": "stream",
     "text": [
      "[[1 2 3]\n",
      " [4 5 6]]\n"
     ]
    }
   ],
   "execution_count": 9
  },
  {
   "metadata": {},
   "cell_type": "markdown",
   "source": "And you can create a three-dimensional array by passing a list of lists of lists to the np.array() function. For example, the following code creates a three-dimensional array:",
   "id": "f389f764c68adfaf"
  },
  {
   "metadata": {
    "ExecuteTime": {
     "end_time": "2024-05-24T13:10:03.388950Z",
     "start_time": "2024-05-24T13:10:03.384848Z"
    }
   },
   "cell_type": "code",
   "source": [
    "c = np.array([\n",
    "    [[1, 2], [3, 4]], \n",
    "    [[5, 6], [7, 8]]\n",
    "])\n",
    "print(c)"
   ],
   "id": "7ab6821622a3c34a",
   "outputs": [
    {
     "name": "stdout",
     "output_type": "stream",
     "text": [
      "[[[1 2]\n",
      "  [3 4]]\n",
      "\n",
      " [[5 6]\n",
      "  [7 8]]]\n"
     ]
    }
   ],
   "execution_count": 10
  },
  {
   "metadata": {},
   "cell_type": "markdown",
   "source": "Check the type of the array:",
   "id": "6bc366c5932b03d4"
  },
  {
   "metadata": {
    "ExecuteTime": {
     "end_time": "2024-05-24T13:11:11.149466Z",
     "start_time": "2024-05-24T13:11:11.134780Z"
    }
   },
   "cell_type": "code",
   "source": "print(type(a)), print(type(b)), print(type(c))",
   "id": "9ee70988363cf17c",
   "outputs": [
    {
     "name": "stdout",
     "output_type": "stream",
     "text": [
      "<class 'numpy.ndarray'>\n",
      "<class 'numpy.ndarray'>\n",
      "<class 'numpy.ndarray'>\n"
     ]
    },
    {
     "data": {
      "text/plain": [
       "(None, None, None)"
      ]
     },
     "execution_count": 11,
     "metadata": {},
     "output_type": "execute_result"
    }
   ],
   "execution_count": 11
  },
  {
   "metadata": {
    "ExecuteTime": {
     "end_time": "2024-05-24T13:11:17.659674Z",
     "start_time": "2024-05-24T13:11:17.654073Z"
    }
   },
   "cell_type": "code",
   "source": "print(a.dtype), print(b.dtype), print(c.dtype)",
   "id": "d15db80505fadd24",
   "outputs": [
    {
     "name": "stdout",
     "output_type": "stream",
     "text": [
      "int64\n",
      "int64\n",
      "int64\n"
     ]
    },
    {
     "data": {
      "text/plain": [
       "(None, None, None)"
      ]
     },
     "execution_count": 12,
     "metadata": {},
     "output_type": "execute_result"
    }
   ],
   "execution_count": 12
  },
  {
   "metadata": {},
   "cell_type": "markdown",
   "source": "Check the shape of the array:",
   "id": "284b10558de15025"
  },
  {
   "metadata": {
    "ExecuteTime": {
     "end_time": "2024-05-24T13:12:05.801719Z",
     "start_time": "2024-05-24T13:12:05.782850Z"
    }
   },
   "cell_type": "code",
   "source": "print(a.shape), print(b.shape), print(c.shape)",
   "id": "1119fc1451fb74de",
   "outputs": [
    {
     "name": "stdout",
     "output_type": "stream",
     "text": [
      "(5,)\n",
      "(2, 3)\n",
      "(2, 2, 2)\n"
     ]
    },
    {
     "data": {
      "text/plain": [
       "(None, None, None)"
      ]
     },
     "execution_count": 13,
     "metadata": {},
     "output_type": "execute_result"
    }
   ],
   "execution_count": 13
  },
  {
   "metadata": {},
   "cell_type": "markdown",
   "source": "Check the dimension of the array:",
   "id": "599a602f9d725f64"
  },
  {
   "metadata": {
    "ExecuteTime": {
     "end_time": "2024-05-24T13:12:15.713064Z",
     "start_time": "2024-05-24T13:12:15.708391Z"
    }
   },
   "cell_type": "code",
   "source": "print(a.ndim), print(b.ndim), print(c.ndim)",
   "id": "c22193ec20b6ed77",
   "outputs": [
    {
     "name": "stdout",
     "output_type": "stream",
     "text": [
      "1\n",
      "2\n",
      "3\n"
     ]
    },
    {
     "data": {
      "text/plain": [
       "(None, None, None)"
      ]
     },
     "execution_count": 14,
     "metadata": {},
     "output_type": "execute_result"
    }
   ],
   "execution_count": 14
  },
  {
   "metadata": {},
   "cell_type": "markdown",
   "source": "Check the size of the array:",
   "id": "e4440d99e0c698ab"
  },
  {
   "metadata": {
    "ExecuteTime": {
     "end_time": "2024-05-24T13:15:31.653145Z",
     "start_time": "2024-05-24T13:15:31.632639Z"
    }
   },
   "cell_type": "code",
   "source": "print(a.size), print(b.size), print(c.size)",
   "id": "c94f28accef76b22",
   "outputs": [
    {
     "name": "stdout",
     "output_type": "stream",
     "text": [
      "5\n",
      "6\n",
      "8\n"
     ]
    },
    {
     "data": {
      "text/plain": [
       "(None, None, None)"
      ]
     },
     "execution_count": 16,
     "metadata": {},
     "output_type": "execute_result"
    }
   ],
   "execution_count": 16
  },
  {
   "metadata": {},
   "cell_type": "markdown",
   "source": [
    "### Anatomy of an Array\n",
    "<img src=\"./anatomy-of-a-numpy-array.png\" height=\"1000\">\n",
    "\n",
    "**Key items:**\n",
    "- **Array** - A list of numbers, can be multi-dimensional.\n",
    "- **Scalar** - A single number (e.g. 7).\n",
    "- **Vector** - A list of numbers with 1-dimension (e.g. np.array([1, 2, 3])).\n",
    "- **Matrix** - A (usually) multi-dimensional list of numbers (e.g. np.array([[1, 2, 3], [4, 5, 6]]))."
   ],
   "id": "b11ba2fdfe8f88e6"
  },
  {
   "metadata": {},
   "cell_type": "markdown",
   "source": [
    "## Creating Arrays\n",
    "There are many ways to create arrays in NumPy. Here are some common ways:\n",
    "- `np.array()`\n",
    "- `np.ones()`\n",
    "- `np.zeros()`\n",
    "- `np.random.rand(5, 3)`\n",
    "- `np.random.randint(10, size=5)`\n",
    "- `np.random.seed()` - pseudo random numbers\n",
    "Searching the documentation example (finding `np.unique()` and using it)"
   ],
   "id": "df24c946793e6f94"
  },
  {
   "metadata": {
    "ExecuteTime": {
     "end_time": "2024-05-24T13:19:35.911533Z",
     "start_time": "2024-05-24T13:19:35.905827Z"
    }
   },
   "cell_type": "code",
   "source": [
    "# Create a simple array\n",
    "simple_array = np.array([1, 2, 3, 4, 5])\n",
    "\n",
    "print(simple_array)\n",
    "print(simple_array.dtype)"
   ],
   "id": "fc40091cb3e7e64b",
   "outputs": [
    {
     "name": "stdout",
     "output_type": "stream",
     "text": [
      "[1 2 3 4 5]\n",
      "int64\n"
     ]
    }
   ],
   "execution_count": 19
  },
  {
   "metadata": {
    "ExecuteTime": {
     "end_time": "2024-05-24T13:21:33.423051Z",
     "start_time": "2024-05-24T13:21:33.413206Z"
    }
   },
   "cell_type": "code",
   "source": [
    "# Create an array of ones\n",
    "ones_array = np.ones((3, 3))\n",
    "\n",
    "print(ones_array)\n",
    "print(ones_array.dtype) # The default datatype is 'float64'\n",
    "\n",
    "# You can change the datatype by passing the 'dtype' argument\n",
    "ones_array_int = np.ones((3, 3), dtype=int)\n",
    "\n",
    "print(ones_array_int)\n",
    "print(ones_array_int.dtype)\n",
    "\n",
    "# Or you can change the datatype with .astype()\n",
    "ones_array_int = ones_array.astype(int)\n",
    "\n",
    "print(ones_array_int)\n",
    "print(ones_array_int.dtype)"
   ],
   "id": "36531eda829fc835",
   "outputs": [
    {
     "name": "stdout",
     "output_type": "stream",
     "text": [
      "[[1. 1. 1.]\n",
      " [1. 1. 1.]\n",
      " [1. 1. 1.]]\n",
      "float64\n",
      "[[1 1 1]\n",
      " [1 1 1]\n",
      " [1 1 1]]\n",
      "int64\n",
      "[[1 1 1]\n",
      " [1 1 1]\n",
      " [1 1 1]]\n",
      "int64\n"
     ]
    }
   ],
   "execution_count": 22
  },
  {
   "metadata": {
    "ExecuteTime": {
     "end_time": "2024-05-24T13:21:52.990535Z",
     "start_time": "2024-05-24T13:21:52.984104Z"
    }
   },
   "cell_type": "code",
   "source": [
    "# Create an array of zeros\n",
    "zeros_array = np.zeros((3, 3))\n",
    "\n",
    "print(zeros_array)\n",
    "print(zeros_array.dtype) # The default datatype is 'float64'"
   ],
   "id": "958ef68069a544b1",
   "outputs": [
    {
     "name": "stdout",
     "output_type": "stream",
     "text": [
      "[[0. 0. 0.]\n",
      " [0. 0. 0.]\n",
      " [0. 0. 0.]]\n",
      "float64\n"
     ]
    }
   ],
   "execution_count": 23
  },
  {
   "metadata": {
    "ExecuteTime": {
     "end_time": "2024-05-24T13:22:36.763849Z",
     "start_time": "2024-05-24T13:22:36.758515Z"
    }
   },
   "cell_type": "code",
   "source": [
    "# Create an array within a range of values\n",
    "range_array = np.arange(0, 10, 2) # (start, stop, step)\n",
    "\n",
    "print(range_array)"
   ],
   "id": "7451f333cfe9bde6",
   "outputs": [
    {
     "name": "stdout",
     "output_type": "stream",
     "text": [
      "[0 2 4 6 8]\n"
     ]
    }
   ],
   "execution_count": 24
  },
  {
   "metadata": {
    "ExecuteTime": {
     "end_time": "2024-05-24T13:23:58.141299Z",
     "start_time": "2024-05-24T13:23:58.120499Z"
    }
   },
   "cell_type": "code",
   "source": [
    "# Create an array of random values\n",
    "random_array = np.random.randint(0, 10, size=(3, 3))\n",
    "\n",
    "print(random_array)\n",
    "\n",
    "# Random array of floats (between 0 & 1)\n",
    "random_array_float = np.random.rand(3, 3)\n",
    "\n",
    "print(random_array_float)"
   ],
   "id": "a8d953c61531971a",
   "outputs": [
    {
     "name": "stdout",
     "output_type": "stream",
     "text": [
      "[[4 9 3]\n",
      " [7 7 7]\n",
      " [2 7 0]]\n",
      "[[0.78407769 0.2381956  0.01392624]\n",
      " [0.15913637 0.67138439 0.71556289]\n",
      " [0.10694238 0.94984581 0.57808624]]\n"
     ]
    }
   ],
   "execution_count": 26
  },
  {
   "metadata": {},
   "cell_type": "markdown",
   "source": [
    "NumPy uses pseudo-random numbers, which means, the numbers look random but aren't really, they're predetermined. For consistency, you might want to keep the random numbers you generate similar throughout experiments. To do this, you can use `np.random.seed()`.\n",
    "\n",
    "What this does is it tells NumPy, \"Hey, I want you to create random numbers but keep them aligned with the seed.\"\n",
    "\n",
    "Let's see it."
   ],
   "id": "38dd7a2b386f2ac3"
  },
  {
   "metadata": {
    "ExecuteTime": {
     "end_time": "2024-05-24T13:26:51.079091Z",
     "start_time": "2024-05-24T13:26:51.073799Z"
    }
   },
   "cell_type": "code",
   "source": [
    "# Set random seed\n",
    "np.random.seed(0)\n",
    "\n",
    "random_array_1 = np.random.randint(10, size=(3, 3))\n",
    "print(random_array_1)\n",
    "\n",
    "# If you run this cell again, random_array_1 will be the same"
   ],
   "id": "6bd6bad751b0f8ad",
   "outputs": [
    {
     "name": "stdout",
     "output_type": "stream",
     "text": [
      "[[5 0 3]\n",
      " [3 7 9]\n",
      " [3 5 2]]\n"
     ]
    }
   ],
   "execution_count": 33
  },
  {
   "metadata": {},
   "cell_type": "markdown",
   "source": [
    "Set the random seed to a different number and see the difference.\n",
    "\n",
    "Because `np.random.seed()` is set to 0, the random numbers are the same as the cell with np.random.seed() set to 0 as well.\n",
    "Setting `np.random.seed()` is not 100% necessary but it's helpful to keep numbers the same throughout your experiments."
   ],
   "id": "fbbd190ce6ae31cd"
  },
  {
   "metadata": {},
   "cell_type": "markdown",
   "source": [
    "## Viewing arrays and matrices (index)\n",
    "\n",
    "Remember the anatomy of an array? It's a grid of numbers. To view arrays and matrices, you can use the `print()` function or simply call the array itself. For example:"
   ],
   "id": "e77200c40a220d00"
  },
  {
   "metadata": {
    "ExecuteTime": {
     "end_time": "2024-05-24T13:31:04.908271Z",
     "start_time": "2024-05-24T13:31:04.899991Z"
    }
   },
   "cell_type": "code",
   "source": [
    "print(random_array)\n",
    "\n",
    "print(random_array[0]) # First row of the array\n",
    "print(random_array[1]) # Second row of the array\n",
    "print(random_array[2]) # Third row of the array\n",
    "\n",
    "print(random_array[0][0]) # First element of the first row\n",
    "print(random_array[1][1]) # Second element of the second row\n",
    "print(random_array[2][2]) # Third element of the third row\n",
    "\n",
    "# Get the first 2 values of the first 2 rows of both arrays\n",
    "print(random_array[:2, :2])"
   ],
   "id": "49692a30924ec1f6",
   "outputs": [
    {
     "name": "stdout",
     "output_type": "stream",
     "text": [
      "[[4 9 3]\n",
      " [7 7 7]\n",
      " [2 7 0]]\n",
      "[4 9 3]\n",
      "[7 7 7]\n",
      "[2 7 0]\n",
      "4\n",
      "7\n",
      "0\n",
      "[[4 9]\n",
      " [7 7]]\n"
     ]
    }
   ],
   "execution_count": 39
  },
  {
   "metadata": {},
   "cell_type": "markdown",
   "source": [
    "## Manipulating & comparing arrays\n",
    "- Arithmetic\n",
    "    - `+`, `-`, `*`, `/`, `//`, `**`\n",
    "    - `np.exp()`, `np.log()`, `np.sqrt()`\n",
    "    - `np.dot()` - Dot product\n",
    "    - Broadcasting\n",
    "- Aggregation\n",
    "    - `np.sum()`\n",
    "    - `np.mean()`\n",
    "    - `np.std()`\n",
    "    - `np.var()`\n",
    "    - `np.min()`\n",
    "    - `np.max()` \n",
    "    - `np.argmin()` - Find the index of the minimum value\n",
    "    - `np.argmax()` - Find the index of the maximum value\n",
    "- Reshaping\n",
    "    - `np.reshape()`\n",
    "- Transposing\n",
    "    - `array.T` \n",
    "- Comparison\n",
    "    - `>`, `<`, `>=`, `<=`, `==`, `!=`\n",
    "- Sorting\n",
    "    - `np.sort()` \n",
    "    - `np.argsort()` - Returns the indices that would sort an array\n",
    "    - `np.argmax()` - Returns the indices of the maximum values along an axis\n",
    "    - `np.argmin()` - Returns the indices of the minimum values along an axis"
   ],
   "id": "208b8aea4f39bf98"
  },
  {
   "metadata": {},
   "cell_type": "markdown",
   "source": "### Arithmetic",
   "id": "a45785e3fa61128f"
  },
  {
   "metadata": {
    "ExecuteTime": {
     "end_time": "2024-05-24T14:11:07.928274Z",
     "start_time": "2024-05-24T14:11:07.923129Z"
    }
   },
   "cell_type": "code",
   "source": [
    "a = np.array([1, 2, 3])\n",
    "b = np.array([4, 5, 6])\n",
    "\n",
    "# Element-wise addition\n",
    "print(a + b)"
   ],
   "id": "a8059a29d39183a2",
   "outputs": [
    {
     "name": "stdout",
     "output_type": "stream",
     "text": [
      "[5 7 9]\n"
     ]
    }
   ],
   "execution_count": 50
  },
  {
   "metadata": {
    "ExecuteTime": {
     "end_time": "2024-05-24T14:11:11.759689Z",
     "start_time": "2024-05-24T14:11:11.752282Z"
    }
   },
   "cell_type": "code",
   "source": [
    "# Element-wise subtraction\n",
    "print(a - b)"
   ],
   "id": "39df928ed95914af",
   "outputs": [
    {
     "name": "stdout",
     "output_type": "stream",
     "text": [
      "[-3 -3 -3]\n"
     ]
    }
   ],
   "execution_count": 51
  },
  {
   "metadata": {
    "ExecuteTime": {
     "end_time": "2024-05-24T14:11:15.702688Z",
     "start_time": "2024-05-24T14:11:15.698990Z"
    }
   },
   "cell_type": "code",
   "source": [
    "# Element-wise multiplication\n",
    "print(a * b)"
   ],
   "id": "aad223720536fac4",
   "outputs": [
    {
     "name": "stdout",
     "output_type": "stream",
     "text": [
      "[ 4 10 18]\n"
     ]
    }
   ],
   "execution_count": 52
  },
  {
   "metadata": {
    "ExecuteTime": {
     "end_time": "2024-05-24T14:11:19.398156Z",
     "start_time": "2024-05-24T14:11:19.394431Z"
    }
   },
   "cell_type": "code",
   "source": [
    "# Element-wise division\n",
    "print(a / b)"
   ],
   "id": "10b670d2b208750a",
   "outputs": [
    {
     "name": "stdout",
     "output_type": "stream",
     "text": [
      "[0.25 0.4  0.5 ]\n"
     ]
    }
   ],
   "execution_count": 53
  },
  {
   "metadata": {
    "ExecuteTime": {
     "end_time": "2024-05-24T14:11:22.579009Z",
     "start_time": "2024-05-24T14:11:22.575065Z"
    }
   },
   "cell_type": "code",
   "source": [
    "# Floor division (removes the decimals)\n",
    "print(a // b)"
   ],
   "id": "520d3b93bf20d1b4",
   "outputs": [
    {
     "name": "stdout",
     "output_type": "stream",
     "text": [
      "[0 0 0]\n"
     ]
    }
   ],
   "execution_count": 54
  },
  {
   "metadata": {
    "ExecuteTime": {
     "end_time": "2024-05-24T14:11:25.649911Z",
     "start_time": "2024-05-24T14:11:25.645464Z"
    }
   },
   "cell_type": "code",
   "source": [
    "# Element-wise power\n",
    "print(a ** b)"
   ],
   "id": "34af215514b37d16",
   "outputs": [
    {
     "name": "stdout",
     "output_type": "stream",
     "text": [
      "[  1  32 729]\n"
     ]
    }
   ],
   "execution_count": 55
  },
  {
   "metadata": {
    "ExecuteTime": {
     "end_time": "2024-05-24T14:11:28.764106Z",
     "start_time": "2024-05-24T14:11:28.759052Z"
    }
   },
   "cell_type": "code",
   "source": [
    "# Exponential\n",
    "print(np.exp(a))"
   ],
   "id": "1921134d5d71fc0",
   "outputs": [
    {
     "name": "stdout",
     "output_type": "stream",
     "text": [
      "[ 2.71828183  7.3890561  20.08553692]\n"
     ]
    }
   ],
   "execution_count": 56
  },
  {
   "metadata": {
    "ExecuteTime": {
     "end_time": "2024-05-24T14:11:31.688580Z",
     "start_time": "2024-05-24T14:11:31.683882Z"
    }
   },
   "cell_type": "code",
   "source": [
    "# Logarithm\n",
    "print(np.log(a))"
   ],
   "id": "5bdd24c080ab6a02",
   "outputs": [
    {
     "name": "stdout",
     "output_type": "stream",
     "text": [
      "[0.         0.69314718 1.09861229]\n"
     ]
    }
   ],
   "execution_count": 57
  },
  {
   "metadata": {
    "ExecuteTime": {
     "end_time": "2024-05-24T14:11:34.750078Z",
     "start_time": "2024-05-24T14:11:34.746077Z"
    }
   },
   "cell_type": "code",
   "source": [
    "# Square root\n",
    "print(np.sqrt(a))"
   ],
   "id": "bbee27c4f8cd378e",
   "outputs": [
    {
     "name": "stdout",
     "output_type": "stream",
     "text": [
      "[1.         1.41421356 1.73205081]\n"
     ]
    }
   ],
   "execution_count": 58
  },
  {
   "metadata": {
    "ExecuteTime": {
     "end_time": "2024-05-24T14:15:47.967146Z",
     "start_time": "2024-05-24T14:15:47.958279Z"
    }
   },
   "cell_type": "code",
   "source": [
    "# Broadcasting is a feature of NumPy which performs operations on arrays of different shapes.\n",
    "print(a + 10)\n",
    "print(a * 10)\n",
    "print(a / 10)"
   ],
   "id": "ab7e474a10337f66",
   "outputs": [
    {
     "name": "stdout",
     "output_type": "stream",
     "text": [
      "[11 12 13]\n",
      "[10 20 30]\n",
      "[0.1 0.2 0.3]\n"
     ]
    }
   ],
   "execution_count": 60
  },
  {
   "metadata": {},
   "cell_type": "markdown",
   "source": "### Aggregation",
   "id": "80ce2a474b07c34f"
  },
  {
   "metadata": {
    "ExecuteTime": {
     "end_time": "2024-05-24T14:17:37.010536Z",
     "start_time": "2024-05-24T14:17:36.983276Z"
    }
   },
   "cell_type": "code",
   "source": [
    "a = np.array([[1, 2, 3, 4, 5], [6, 7, 8, 9, 10], [11, 12, 13, 14, 15]])\n",
    "\n",
    "print(np.sum(a)) # Sum of all elements\n",
    "print(np.mean(a)) # Mean of all elements\n",
    "print(np.std(a)) # Standard deviation\n",
    "print(np.var(a)) # Variance\n",
    "print(np.min(a)) # Minimum value\n",
    "print(np.max(a)) # Maximum value\n",
    "print(np.argmin(a)) # Index of the minimum value\n",
    "print(np.argmax(a)) # Index of the maximum value\n"
   ],
   "id": "2522403985ed539b",
   "outputs": [
    {
     "name": "stdout",
     "output_type": "stream",
     "text": [
      "120\n",
      "8.0\n",
      "4.320493798938574\n",
      "18.666666666666668\n",
      "1\n",
      "15\n",
      "0\n",
      "14\n"
     ]
    }
   ],
   "execution_count": 61
  },
  {
   "metadata": {},
   "cell_type": "markdown",
   "source": [
    "**What's mean?**\n",
    "Mean is the same as average. You can find the average of a set of numbers by adding them up and dividing them by how many there are.\n",
    "\n",
    "**What's standard deviation?**\n",
    "Standard deviation is a measure of how spread out numbers are.\n",
    "\n",
    "**What's variance?**\n",
    "The variance is the averaged squared differences of the mean.\n",
    "\n",
    "To work it out, you:\n",
    "\n",
    "1. Work out the mean\n",
    "2. For each number, subtract the mean and square the result\n",
    "3. Find the average of the squared differences"
   ],
   "id": "6c94252db51b6f51"
  },
  {
   "metadata": {
    "ExecuteTime": {
     "end_time": "2024-05-24T14:19:38.094175Z",
     "start_time": "2024-05-24T14:19:38.086295Z"
    }
   },
   "cell_type": "code",
   "source": [
    "# Demo of variance\n",
    "high_var_array = np.array([1, 100, 200, 300, 4000, 5000])\n",
    "low_var_array = np.array([2, 4, 6, 8, 10])\n",
    "\n",
    "np.var(high_var_array), np.var(low_var_array)"
   ],
   "id": "edd71352da13699c",
   "outputs": [
    {
     "data": {
      "text/plain": [
       "(4296133.472222221, 8.0)"
      ]
     },
     "execution_count": 63,
     "metadata": {},
     "output_type": "execute_result"
    }
   ],
   "execution_count": 63
  },
  {
   "metadata": {
    "ExecuteTime": {
     "end_time": "2024-05-24T14:20:12.984821Z",
     "start_time": "2024-05-24T14:20:12.978353Z"
    }
   },
   "cell_type": "code",
   "source": [
    "# The standard deviation is the square root of the variance\n",
    "print(np.sqrt(np.var(high_var_array)))\n",
    "print(np.std(high_var_array))"
   ],
   "id": "379da3736c8fbcbe",
   "outputs": [
    {
     "name": "stdout",
     "output_type": "stream",
     "text": [
      "2072.711623024829\n",
      "2072.711623024829\n"
     ]
    }
   ],
   "execution_count": 65
  },
  {
   "metadata": {},
   "cell_type": "markdown",
   "source": "### Reshaping",
   "id": "5f3c377c9a5302dd"
  },
  {
   "metadata": {
    "ExecuteTime": {
     "end_time": "2024-05-24T14:25:08.351949Z",
     "start_time": "2024-05-24T14:25:08.344072Z"
    }
   },
   "cell_type": "code",
   "source": [
    "a = np.array([\n",
    "    [1, 2, 3], \n",
    "    [4, 5, 6]\n",
    "])\n",
    "b = np.array([\n",
    "    [7, 8], \n",
    "    [9, 10], \n",
    "    [11, 12]\n",
    "])\n",
    "\n",
    "print(a.shape)\n",
    "print(b.shape)"
   ],
   "id": "95b4e9a6cec2b1d",
   "outputs": [
    {
     "name": "stdout",
     "output_type": "stream",
     "text": [
      "(2, 3)\n",
      "(3, 2)\n"
     ]
    }
   ],
   "execution_count": 70
  },
  {
   "metadata": {
    "ExecuteTime": {
     "end_time": "2024-05-24T14:25:09.741740Z",
     "start_time": "2024-05-24T14:25:09.734900Z"
    }
   },
   "cell_type": "code",
   "source": [
    "# Reshape a to the shape of b\n",
    "# If we calculate a + b, it will throw an error because the shapes are different\n",
    "# We can reshape a to the shape of b\n",
    "\n",
    "a_reshaped = a.reshape(3, 2)\n",
    "print(a_reshaped)\n",
    "print(a_reshaped.shape)\n",
    "\n",
    "# Now we can add a and b\n",
    "print(a_reshaped + b)"
   ],
   "id": "2f7135ae43f9c8d3",
   "outputs": [
    {
     "name": "stdout",
     "output_type": "stream",
     "text": [
      "[[1 2]\n",
      " [3 4]\n",
      " [5 6]]\n",
      "(3, 2)\n",
      "[[ 8 10]\n",
      " [12 14]\n",
      " [16 18]]\n"
     ]
    }
   ],
   "execution_count": 71
  },
  {
   "metadata": {},
   "cell_type": "markdown",
   "source": "### Transposing",
   "id": "65b3aec9f8646ae2"
  },
  {
   "metadata": {
    "ExecuteTime": {
     "end_time": "2024-05-24T14:26:12.666770Z",
     "start_time": "2024-05-24T14:26:12.661759Z"
    }
   },
   "cell_type": "code",
   "source": [
    "# Transposing is a common operation in linear algebra where the rows and columns of a matrix are swapped.\n",
    "a = np.array([\n",
    "    [1, 2, 3], \n",
    "    [4, 5, 6]\n",
    "])\n",
    "\n",
    "print(a)\n",
    "print(a.T)"
   ],
   "id": "409bd8fe06111882",
   "outputs": [
    {
     "name": "stdout",
     "output_type": "stream",
     "text": [
      "[[1 2 3]\n",
      " [4 5 6]]\n",
      "[[1 4]\n",
      " [2 5]\n",
      " [3 6]]\n"
     ]
    }
   ],
   "execution_count": 76
  },
  {
   "metadata": {
    "ExecuteTime": {
     "end_time": "2024-05-24T14:26:25.112199Z",
     "start_time": "2024-05-24T14:26:25.108053Z"
    }
   },
   "cell_type": "code",
   "source": [
    "# Transposing a 1D array does nothing\n",
    "b = np.array([1, 2, 3])\n",
    "\n",
    "print(b)\n",
    "print(b.T) # Transposing a 1D array does nothing"
   ],
   "id": "50302f5aa214bdb4",
   "outputs": [
    {
     "name": "stdout",
     "output_type": "stream",
     "text": [
      "[1 2 3]\n",
      "[1 2 3]\n"
     ]
    }
   ],
   "execution_count": 78
  },
  {
   "metadata": {
    "ExecuteTime": {
     "end_time": "2024-05-24T14:26:30.629430Z",
     "start_time": "2024-05-24T14:26:30.625622Z"
    }
   },
   "cell_type": "code",
   "source": [
    "# Transposing a 3D array\n",
    "c = np.array([\n",
    "    [[1, 2], [3, 4]], \n",
    "    [[5, 6], [7, 8]]\n",
    "])\n",
    "\n",
    "print(c)\n",
    "print(c.T)"
   ],
   "id": "3d0758c1f53f8828",
   "outputs": [
    {
     "name": "stdout",
     "output_type": "stream",
     "text": [
      "[[[1 2]\n",
      "  [3 4]]\n",
      "\n",
      " [[5 6]\n",
      "  [7 8]]]\n",
      "[[[1 5]\n",
      "  [3 7]]\n",
      "\n",
      " [[2 6]\n",
      "  [4 8]]]\n"
     ]
    }
   ],
   "execution_count": 79
  },
  {
   "metadata": {},
   "cell_type": "markdown",
   "source": "### Comparison",
   "id": "a5cbc3557e8c2af2"
  },
  {
   "metadata": {
    "ExecuteTime": {
     "end_time": "2024-05-24T14:27:43.861526Z",
     "start_time": "2024-05-24T14:27:43.856037Z"
    }
   },
   "cell_type": "code",
   "source": [
    "a = np.array([1, 5, 7, 4])\n",
    "b = np.array([2, 3, 9, 4])\n",
    "\n",
    "print(a > b)\n",
    "print(a < b)\n",
    "print(a >= b)\n",
    "print(a <= b)\n",
    "print(a == b)\n",
    "print(a != b)"
   ],
   "id": "40381656a3307c2a",
   "outputs": [
    {
     "name": "stdout",
     "output_type": "stream",
     "text": [
      "[False  True False False]\n",
      "[ True False  True False]\n",
      "[False  True False  True]\n",
      "[ True False  True  True]\n",
      "[False False False  True]\n",
      "[ True  True  True False]\n"
     ]
    }
   ],
   "execution_count": 80
  },
  {
   "metadata": {
    "ExecuteTime": {
     "end_time": "2024-05-24T14:27:59.332336Z",
     "start_time": "2024-05-24T14:27:59.326751Z"
    }
   },
   "cell_type": "code",
   "source": [
    "a = np.array([[1, 2, 3], [4, 5, 6]])\n",
    "b = np.array([[1, 2, 3], [4, 5, 6]])\n",
    "\n",
    "print(a == b)\n",
    "print(a != b)"
   ],
   "id": "91e7eae35631a8a7",
   "outputs": [
    {
     "name": "stdout",
     "output_type": "stream",
     "text": [
      "[[ True  True  True]\n",
      " [ True  True  True]]\n",
      "[[False False False]\n",
      " [False False False]]\n"
     ]
    }
   ],
   "execution_count": 82
  },
  {
   "metadata": {},
   "cell_type": "markdown",
   "source": "### Sorting",
   "id": "fbb91424eb974dfd"
  },
  {
   "metadata": {
    "ExecuteTime": {
     "end_time": "2024-05-24T14:28:54.434533Z",
     "start_time": "2024-05-24T14:28:54.415965Z"
    }
   },
   "cell_type": "code",
   "source": [
    "a = np.array([3, 2, 0, 1])\n",
    "print(np.sort(a))"
   ],
   "id": "ccbf5d3b459b609b",
   "outputs": [
    {
     "name": "stdout",
     "output_type": "stream",
     "text": [
      "[0 1 2 3]\n"
     ]
    }
   ],
   "execution_count": 83
  },
  {
   "metadata": {
    "ExecuteTime": {
     "end_time": "2024-05-24T14:31:35.807387Z",
     "start_time": "2024-05-24T14:31:35.790628Z"
    }
   },
   "cell_type": "code",
   "source": [
    "a = np.array([[3, 2, 0], [1, 5, 4]])\n",
    "print(np.sort(a))"
   ],
   "id": "93f4b1477d7920bc",
   "outputs": [
    {
     "name": "stdout",
     "output_type": "stream",
     "text": [
      "[[0 2 3]\n",
      " [1 4 5]]\n"
     ]
    }
   ],
   "execution_count": 87
  },
  {
   "metadata": {
    "ExecuteTime": {
     "end_time": "2024-05-24T14:32:05.273849Z",
     "start_time": "2024-05-24T14:32:05.267482Z"
    }
   },
   "cell_type": "code",
   "source": [
    "a = np.array([3, 2, 0, 1])\n",
    "print(np.argsort(a)) # Returns the indices that would sort an array"
   ],
   "id": "ebb83833bf2e472a",
   "outputs": [
    {
     "name": "stdout",
     "output_type": "stream",
     "text": [
      "[2 3 1 0]\n"
     ]
    }
   ],
   "execution_count": 88
  },
  {
   "metadata": {
    "ExecuteTime": {
     "end_time": "2024-05-24T14:32:14.793672Z",
     "start_time": "2024-05-24T14:32:14.785713Z"
    }
   },
   "cell_type": "code",
   "source": [
    "a = np.array([3, 2, 0, 1])\n",
    "print(np.argmax(a)) # Returns the indices of the maximum values along an axis"
   ],
   "id": "8821c525ffa1e968",
   "outputs": [
    {
     "name": "stdout",
     "output_type": "stream",
     "text": [
      "0\n"
     ]
    }
   ],
   "execution_count": 89
  },
  {
   "metadata": {
    "ExecuteTime": {
     "end_time": "2024-05-24T14:32:22.287835Z",
     "start_time": "2024-05-24T14:32:22.283081Z"
    }
   },
   "cell_type": "code",
   "source": [
    "a = np.array([3, 2, 0, 1])\n",
    "print(np.argmin(a)) # Returns the indices of the minimum values along an axis"
   ],
   "id": "693f71cb8885b850",
   "outputs": [
    {
     "name": "stdout",
     "output_type": "stream",
     "text": [
      "2\n"
     ]
    }
   ],
   "execution_count": 90
  },
  {
   "metadata": {},
   "cell_type": "markdown",
   "source": [
    "### Dot product\n",
    "\n",
    "So what's the dot product?\n",
    "\n",
    "The dot product is where we multiply matching members, then sum up:\n",
    "    \n",
    "    ```python\n",
    "    [1, 2, 3] • [4, 5, 6] = 1*4 + 2*5 + 3*6\n",
    "    ```\n",
    "    \n",
    "You can perform matrix multiplication using `np.dot()`."
   ],
   "id": "8467fdf8088bee75"
  },
  {
   "metadata": {
    "ExecuteTime": {
     "end_time": "2024-05-24T14:30:09.233654Z",
     "start_time": "2024-05-24T14:30:09.225294Z"
    }
   },
   "cell_type": "code",
   "source": [
    "a = np.array([1, 2, 3])\n",
    "b = np.array([4, 5, 6])\n",
    "\n",
    "np.dot(a, b)"
   ],
   "id": "9c4acac72bc06552",
   "outputs": [
    {
     "data": {
      "text/plain": [
       "32"
      ]
     },
     "execution_count": 85,
     "metadata": {},
     "output_type": "execute_result"
    }
   ],
   "execution_count": 85
  },
  {
   "metadata": {
    "ExecuteTime": {
     "end_time": "2024-05-24T14:30:15.971710Z",
     "start_time": "2024-05-24T14:30:15.967Z"
    }
   },
   "cell_type": "code",
   "source": [
    "a = np.array([[1, 2], [3, 4]])\n",
    "b = np.array([[5, 6], [7, 8]])\n",
    "\n",
    "np.dot(a, b)"
   ],
   "id": "29f08f4b0eb51330",
   "outputs": [
    {
     "data": {
      "text/plain": [
       "array([[19, 22],\n",
       "       [43, 50]])"
      ]
     },
     "execution_count": 86,
     "metadata": {},
     "output_type": "execute_result"
    }
   ],
   "execution_count": 86
  },
  {
   "metadata": {},
   "cell_type": "markdown",
   "source": [
    "## Conclusion\n",
    "\n",
    "NumPy is a powerful library for numerical computing in Python. It provides a high-performance multidimensional array object and tools for working with these arrays. NumPy is the foundation for many other Python libraries, including pandas, scikit-learn, and TensorFlow. By learning NumPy, you will be well-equipped to work with data in Python and to build machine learning models.\n",
    "\n",
    "In this notebook, you learned how to create arrays, view arrays, manipulate arrays, and compare arrays using NumPy. You also learned about the anatomy of an array, data types, attributes, and common operations. You can use this knowledge to work with data in Python and to build machine learning models."
   ],
   "id": "7d0c9ff3219c6bc9"
  },
  {
   "metadata": {
    "ExecuteTime": {
     "end_time": "2024-05-24T14:33:00.310496Z",
     "start_time": "2024-05-24T14:33:00.303994Z"
    }
   },
   "cell_type": "code",
   "source": "# Path: intro-numpy.ipynb",
   "id": "2fc46e587b7b23f3",
   "outputs": [],
   "execution_count": 91
  }
 ],
 "metadata": {
  "kernelspec": {
   "display_name": "Python 3",
   "language": "python",
   "name": "python3"
  },
  "language_info": {
   "codemirror_mode": {
    "name": "ipython",
    "version": 2
   },
   "file_extension": ".py",
   "mimetype": "text/x-python",
   "name": "python",
   "nbconvert_exporter": "python",
   "pygments_lexer": "ipython2",
   "version": "2.7.6"
  }
 },
 "nbformat": 4,
 "nbformat_minor": 5
}
